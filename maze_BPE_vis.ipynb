{
 "cells": [
  {
   "cell_type": "code",
   "execution_count": 1,
   "metadata": {},
   "outputs": [
    {
     "name": "stderr",
     "output_type": "stream",
     "text": [
      "/opt/conda/lib/python3.10/site-packages/tqdm/auto.py:22: TqdmWarning: IProgress not found. Please update jupyter and ipywidgets. See https://ipywidgets.readthedocs.io/en/stable/user_install.html\n",
      "  from .autonotebook import tqdm as notebook_tqdm\n",
      "/tmp/ipykernel_504145/1781828510.py:7: DeprecationWarning: the imp module is deprecated in favour of importlib and slated for removal in Python 3.12; see the module's documentation for alternative uses\n",
      "  import imp\n"
     ]
    }
   ],
   "source": [
    "import matplotlib; matplotlib.use('Agg')\n",
    "import torch\n",
    "import os\n",
    "import time\n",
    "from shutil import copy\n",
    "import datetime\n",
    "import imp\n",
    "from tensorboardX import SummaryWriter\n",
    "import numpy as np\n",
    "import random\n",
    "from torch import autograd\n",
    "from torch.optim import Adam, RMSprop, SGD\n",
    "from functools import partial\n",
    "\n",
    "from spirl.components.data_loader import RandomVideoDataset\n",
    "from spirl.utils.general_utils import RecursiveAverageMeter, map_dict\n",
    "from spirl.components.checkpointer import CheckpointHandler, save_cmd, save_git, get_config_path\n",
    "from spirl.utils.general_utils import dummy_context, AttrDict, get_clipped_optimizer, \\\n",
    "                                                        AverageMeter, ParamDict\n",
    "from spirl.utils.pytorch_utils import LossSpikeHook, NanGradHook, NoneGradHook, \\\n",
    "                                                        DataParallelWrapper, RAdam\n",
    "from spirl.components.trainer_base import BaseTrainer\n",
    "from spirl.utils.wandb import WandBLogger\n",
    "from spirl.components.params import get_args\n",
    "\n",
    "\n",
    "from train import ModelTrainer\n",
    "import argparse"
   ]
  },
  {
   "cell_type": "code",
   "execution_count": 2,
   "metadata": {},
   "outputs": [
    {
     "name": "stdout",
     "output_type": "stream",
     "text": [
      "{'path': 'spirl/configs/skill_prior_learning/maze/hierarchical_cl', 'val_data_size': 160, 'dont_save': True, 'debug': False, 'gpu': -1, 'prefix': 'SPIRL_maze_seed0', 'new_dir': False, 'deterministic': False, 'detect_anomaly': False, 'feed_random_data': False, 'resume': '', 'val_sweep': False, 'train': False, 'test_prediction': True, 'skip_first_val': False, 'strict_weight_loading': True, 'log_interval': 500, 'per_epoch_img_logs': 1, 'val_interval': 5, 'train_loop_pdb': False, 'save2mp4': False}\n"
     ]
    }
   ],
   "source": [
    "import easydict\n",
    " \n",
    "\n",
    "args = easydict.EasyDict({ \"path\": \"spirl/configs/skill_prior_learning/maze/hierarchical_cl\" , \"val_data_size\": 160, \"dont_save\" : True, \"debug\":False,\n",
    "                          \"gpu\":-1, \"prefix\":\"SPIRL_maze_seed0\", \"new_dir\":False, \"deterministic\":False,\n",
    "                          \"detect_anomaly\":False, \"feed_random_data\":False, \"resume\":'', \"val_sweep\":False,\n",
    "                          \"train\":False, \"test_prediction\":True, \"skip_first_val\":False, \"strict_weight_loading\":True,\n",
    "                          \"log_interval\":500, \"per_epoch_img_logs\":1,\"val_interval\":5, \"train_loop_pdb\":False,\n",
    "                          \"save2mp4\":False})\n",
    "print(args)"
   ]
  },
  {
   "cell_type": "code",
   "execution_count": 3,
   "metadata": {},
   "outputs": [],
   "source": [
    "os.environ[\"CUDA_DEVICE_ORDER\"]=\"PCI_BUS_ID\"  # Arrange GPU devices starting from 0\n",
    "os.environ[\"CUDA_VISIBLE_DEVICES\"]= \"0\"  # Set the GPU 2 to use"
   ]
  },
  {
   "cell_type": "code",
   "execution_count": 4,
   "metadata": {},
   "outputs": [
    {
     "name": "stdout",
     "output_type": "stream",
     "text": [
      "loading from the config file spirl/configs/skill_prior_learning/maze/hierarchical_cl/conf.py\n",
      "using log dir:  ./experiments/skill_prior_learning/maze/hierarchical_cl/SPIRL_maze_seed0/events\n"
     ]
    },
    {
     "name": "stderr",
     "output_type": "stream",
     "text": [
      "/app/spirl/spirl/modules/layers.py:12: UserWarning: nn.init.xavier_normal is now deprecated in favor of nn.init.xavier_normal_.\n",
      "  nn.init.xavier_normal(m.weight.data)\n"
     ]
    },
    {
     "name": "stdout",
     "output_type": "stream",
     "text": [
      "loading files from ./dataset/maze\n",
      "len train dataset 79132\n",
      "loading files from ./dataset/maze\n",
      "len val dataset 160\n",
      "Running Testing\n",
      "Eval time for batch:  4.61586856842041\n"
     ]
    }
   ],
   "source": [
    "self = ModelTrainer(args)"
   ]
  },
  {
   "cell_type": "code",
   "execution_count": 5,
   "metadata": {},
   "outputs": [],
   "source": [
    "def make_path(exp_dir, conf_path, prefix, make_new_dir):\n",
    "    # extract the subfolder structure from config path\n",
    "    path = conf_path.split('configs/', 1)[1]\n",
    "    if make_new_dir:\n",
    "        prefix += datetime_str()\n",
    "    base_path = os.path.join(exp_dir, path)\n",
    "    return os.path.join(base_path, prefix) if prefix else base_path"
   ]
  },
  {
   "cell_type": "code",
   "execution_count": 6,
   "metadata": {},
   "outputs": [
    {
     "name": "stdout",
     "output_type": "stream",
     "text": [
      "True\n",
      "cuda\n",
      "loading from the config file spirl/configs/skill_prior_learning/maze/hierarchical_cl/conf.py\n"
     ]
    }
   ],
   "source": [
    "self.args = args\n",
    "\n",
    "# self.setup_device()\n",
    "self.use_cuda = torch.cuda.is_available() and not self.args.debug\n",
    "print(self.use_cuda)\n",
    "\n",
    "self.device = torch.device('cuda') if self.use_cuda else torch.device('cpu')\n",
    "print(self.device)\n",
    "\n",
    "if self.args.gpu != -1:\n",
    "    os.environ[\"CUDA_VISIBLE_DEVICES\"] = str(self.args.gpu)\n",
    "    \n",
    "# set up params\n",
    "# get_config(self)\n",
    "self.conf = conf = self.get_config()\n",
    "\n",
    "self._hp = self._default_hparams()\n",
    "\n",
    "self._hp.overwrite(conf.general)  # override defaults with config file\n",
    "\n",
    "self._hp.exp_path = make_path(conf.exp_dir, args.path, args.prefix, args.new_dir)\n",
    "\n",
    "self.log_dir = log_dir = os.path.join(self._hp.exp_path, 'events')\n",
    "\n",
    "self.conf = self.postprocess_conf(conf)\n",
    "\n",
    "# set up logging + training monitoring\n",
    "self.writer = self.setup_logging(conf, self.log_dir)\n",
    "\n",
    "self.setup_training_monitors()"
   ]
  },
  {
   "cell_type": "code",
   "execution_count": 7,
   "metadata": {},
   "outputs": [
    {
     "name": "stdout",
     "output_type": "stream",
     "text": [
      "loading files from ./dataset/maze\n",
      "len train dataset 79132\n"
     ]
    }
   ],
   "source": [
    "# buld dataset, model. logger, etc.\n",
    "train_params = AttrDict(logger_class=self._hp.logger,\n",
    "                                model_class=self._hp.model,\n",
    "                                n_repeat=self._hp.epoch_cycles_train,\n",
    "                                dataset_size=-1)\n",
    "\n",
    "# build_phase\n",
    "self.logger, self.model, self.train_loader = self.build_phase(train_params, 'train')"
   ]
  },
  {
   "cell_type": "code",
   "execution_count": 8,
   "metadata": {},
   "outputs": [],
   "source": [
    "params = train_params\n",
    "phase = 'train'\n",
    "\n",
    "if not self.args.dont_save:\n",
    "    if self._hp.logging_target == 'wandb':\n",
    "        logger = self.writer\n",
    "    else:\n",
    "        logger = params.logger_class(self.log_dir, summary_writer=self.writer)\n",
    "else:\n",
    "    logger = None"
   ]
  },
  {
   "cell_type": "code",
   "execution_count": 9,
   "metadata": {},
   "outputs": [
    {
     "name": "stdout",
     "output_type": "stream",
     "text": [
      "loading files from ./dataset/maze\n",
      "len train dataset 79132\n",
      "loading files from ./dataset/maze\n",
      "len train dataset 79132\n",
      "loading files from ./dataset/maze\n",
      "len train dataset 79132\n"
     ]
    }
   ],
   "source": [
    "model = params.model_class(self.conf.model, logger)\n",
    "if torch.cuda.device_count() > 1:\n",
    "    raise ValueError(\"Detected {} devices. Currently only single-GPU training is supported!\".format(torch.cuda.device_count()),\n",
    "                    \"Set CUDA_VISIBLE_DEVICES=<desired_gpu_id>.\")\n",
    "    #print(\"\\nUsing {} GPUs!\\n\".format(torch.cuda.device_count()))\n",
    "    #model = DataParallelWrapper(model)\n",
    "model = model.to(self.device)\n",
    "model.device = self.device\n",
    "\n",
    "loader = self.get_dataset(self.args, model, self.conf.data, phase, params.n_repeat, params.dataset_size)\n",
    "dataset_class = self.conf.data.dataset_spec.dataset_class\n",
    "\n",
    "loader = dataset_class(self._hp.data_dir, self.conf.data, resolution=model.resolution,\n",
    "                               phase=phase, shuffle=phase == \"train\", dataset_size=params.dataset_size). \\\n",
    "            get_data_loader(self._hp.batch_size, params.n_repeat)\n",
    "            \n",
    "self.logger, self.model, self.train_loader = self.build_phase(train_params, 'train')"
   ]
  },
  {
   "cell_type": "code",
   "execution_count": 10,
   "metadata": {},
   "outputs": [
    {
     "name": "stdout",
     "output_type": "stream",
     "text": [
      "loading files from ./dataset/maze\n"
     ]
    }
   ],
   "source": [
    "from spirl.components.data_loader import GlobalSplitVideoDataset\n",
    "\n",
    "GlobSplit = GlobalSplitVideoDataset(self._hp.data_dir, self.conf.data, resolution=model.resolution,\n",
    "                               phase=phase, shuffle=phase == \"train\", dataset_size=params.dataset_size)"
   ]
  },
  {
   "cell_type": "code",
   "execution_count": null,
   "metadata": {},
   "outputs": [],
   "source": []
  },
  {
   "cell_type": "code",
   "execution_count": null,
   "metadata": {},
   "outputs": [],
   "source": []
  },
  {
   "cell_type": "code",
   "execution_count": null,
   "metadata": {},
   "outputs": [],
   "source": []
  },
  {
   "cell_type": "code",
   "execution_count": null,
   "metadata": {},
   "outputs": [],
   "source": []
  },
  {
   "cell_type": "code",
   "execution_count": null,
   "metadata": {},
   "outputs": [],
   "source": []
  },
  {
   "cell_type": "code",
   "execution_count": 11,
   "metadata": {},
   "outputs": [],
   "source": [
    "from enum import Enum\n",
    "\n",
    "class Category(Enum) :\n",
    "    NE = 1\n",
    "    SE = 2\n",
    "    NW = 3\n",
    "    SW = 4\n",
    "    E = 5\n",
    "    W = 6\n",
    "    N = 7\n",
    "    S = 8\n",
    "    O = 9"
   ]
  },
  {
   "cell_type": "code",
   "execution_count": 12,
   "metadata": {},
   "outputs": [
    {
     "data": {
      "text/plain": [
       "67765"
      ]
     },
     "execution_count": 12,
     "metadata": {},
     "output_type": "execute_result"
    }
   ],
   "source": [
    "int(np.random.randint(0, len(GlobSplit.filenames), size=1))"
   ]
  },
  {
   "cell_type": "code",
   "execution_count": 13,
   "metadata": {},
   "outputs": [],
   "source": [
    "import h5py\n",
    "from skimage.transform  import resize\n",
    "from tqdm import tqdm\n",
    "# first trajectory\n",
    "# added terminal states\n",
    "# 여기서의 state은 x,y좌표이다. 하지만 우리가 policy learning할 때 쓸건 \n",
    "# 두 image를 concatenate한거다\n",
    "# torch.Size([128, 12, 3, 32, 32])\n",
    "\n",
    "#index= 79132 # 총 79132 파일들\n",
    "\n",
    "\n",
    "\n",
    "def read_file(index) :\n",
    "\n",
    "    st_i = 0\n",
    "\n",
    "    data = AttrDict()\n",
    "\n",
    "\n",
    "    \n",
    "    path = GlobSplit.filenames[index]\n",
    "    \n",
    "    \n",
    "    \n",
    "\n",
    "    try:\n",
    "        with h5py.File(path, 'r') as F:\n",
    "            ex_index = index % GlobSplit.samples_per_file  # get the index\n",
    "            key = 'traj{}'.format(ex_index)\n",
    "\n",
    "            # Fetch data into a dict\n",
    "            for name in F[key].keys():\n",
    "                if name in ['states', 'actions', 'pad_mask']:\n",
    "                    data[name] = F[key + '/' + name][()].astype(np.float32)\n",
    "\n",
    "            if key + '/images' in F:\n",
    "                data.images = F[key + '/images'][()]\n",
    "            else:\n",
    "                data.images = np.zeros((data.states.shape[0], 2, 2, 3), dtype=np.uint8)\n",
    "                \n",
    "            data.terminals = np.full((data.states.shape[0],), False, dtype=bool)\n",
    "            data.terminals[-1] = True\n",
    "            \n",
    "\n",
    "    except:\n",
    "        raise ValueError(\"Could not load from file {}\".format(path))\n",
    "        \n",
    "    \n",
    "    return data"
   ]
  },
  {
   "cell_type": "code",
   "execution_count": 14,
   "metadata": {},
   "outputs": [],
   "source": [
    "import copy\n",
    "import torch.nn.functional as F\n",
    "from tqdm import tqdm\n",
    "\n",
    "\n",
    "def categorize_function(data) :\n",
    "\n",
    "    prep_data_copy = copy.deepcopy(data)\n",
    "    lt_boolean = torch.from_numpy(abs(prep_data_copy.actions)).lt(0.1)\n",
    "    prep_data_copy.actions[lt_boolean] = 0\n",
    "\n",
    "    \n",
    "    # np.random.randint does not include last index\n",
    "    idx = 0\n",
    "    \n",
    "        \n",
    "    # [idx:idx+1] gives only one sample, so do not have to [idx:idx+H_val-1]\n",
    "    end_idx = prep_data_copy.actions.shape[0]\n",
    "    \n",
    "\n",
    "    \n",
    "    \n",
    "    skill_category = []\n",
    "    for a in range(0, prep_data_copy.actions[idx:end_idx].shape[0]) :\n",
    "        \n",
    "        \n",
    "        if prep_data_copy.actions[idx:end_idx][a][0] > 0 and prep_data_copy.actions[idx:end_idx][a][1] > 0 :\n",
    "            skill_category.append(Category.NE.value)\n",
    "        \n",
    "        if prep_data_copy.actions[idx:end_idx][a][0] > 0 and prep_data_copy.actions[idx:end_idx][a][1] < 0 :\n",
    "            skill_category.append(Category.SE.value)\n",
    "        \n",
    "        if prep_data_copy.actions[idx:end_idx][a][0] < 0 and prep_data_copy.actions[idx:end_idx][a][1] > 0 :\n",
    "            skill_category.append(Category.NW.value)\n",
    "        \n",
    "        if prep_data_copy.actions[idx:end_idx][a][0] < 0 and prep_data_copy.actions[idx:end_idx][a][1] < 0 :\n",
    "            skill_category.append(Category.SW.value)\n",
    "            \n",
    "        if prep_data_copy.actions[idx:end_idx][a][0] > 0 and prep_data_copy.actions[idx:end_idx][a][1] == 0 :\n",
    "            skill_category.append(Category.E.value)\n",
    "        \n",
    "        if prep_data_copy.actions[idx:end_idx][a][0] < 0 and prep_data_copy.actions[idx:end_idx][a][1] == 0 :\n",
    "            skill_category.append(Category.W.value)\n",
    "        \n",
    "        if prep_data_copy.actions[idx:end_idx][a][0] == 0 and prep_data_copy.actions[idx:end_idx][a][1] > 0 :\n",
    "            skill_category.append(Category.N.value)\n",
    "        \n",
    "        if prep_data_copy.actions[idx:end_idx][a][0] == 0 and prep_data_copy.actions[idx:end_idx][a][1] < 0 :\n",
    "            skill_category.append(Category.S.value)\n",
    "    \n",
    "        if prep_data_copy.actions[idx:end_idx][a][0] == 0 and prep_data_copy.actions[idx:end_idx][a][1] == 0 :\n",
    "            skill_category.append(Category.O.value)\n",
    "    \n",
    "    \n",
    "    \n",
    "    concat_string_list = concat_string_function(skill_category)\n",
    "\n",
    "\n",
    "    \n",
    "    return concat_string_list[0]\n"
   ]
  },
  {
   "cell_type": "code",
   "execution_count": 15,
   "metadata": {},
   "outputs": [],
   "source": [
    "def concat_string_function(skill_category) :\n",
    "    concat_string_list = [\"\"]\n",
    " \n",
    "    for j in skill_category :\n",
    "        concat_string_list[0] = concat_string_list[0] + str(j)\n",
    "\n",
    "    concat_string_list = [value for value in concat_string_list if value != \"\"]\n",
    "    \n",
    "    return concat_string_list"
   ]
  },
  {
   "cell_type": "code",
   "execution_count": 16,
   "metadata": {},
   "outputs": [],
   "source": [
    "# BPE code\n",
    "import re, collections\n",
    "\n",
    "def get_vocab(filename):\n",
    "    vocab = collections.defaultdict(int)\n",
    "    with open(filename, 'r', encoding='utf-8') as fhand:\n",
    "        for line in fhand:\n",
    "            words = line.strip().split()\n",
    "            for word in words:\n",
    "                vocab[' '.join(list(word)) + ' </w>'] += 1\n",
    "\n",
    "    return vocab\n",
    "\n",
    "def get_stats(vocab):\n",
    "    \n",
    "    # 사전의 기본값을 0으로 처리\n",
    "    pairs = collections.defaultdict(int)\n",
    "    for word, freq in vocab.items():\n",
    "        symbols = word.split()\n",
    "        \n",
    "        # 2개씩 묶기 때문에 -1\n",
    "        # 하나의 단어 안에 있는 패턴들은 모두 freq만큼 존재한다.\n",
    "        # freq을 하나씩 계산한다고 하면, 뒤로 갈수록 오래걸린다\n",
    "        # 처음에는 2^8개지만, 2^9, 2^10,...식으로 exponential하게 많아진다. 가장 많이 나타난 조합을 하나씩 action_space에 추가하기 때문이다\n",
    "        for i in range(len(symbols)-1):\n",
    "            pairs[symbols[i],symbols[i+1]] += freq\n",
    "    return pairs\n",
    "\n",
    "# merge_vocab(best, vocab)\n",
    "def merge_vocab(pair, v_in):\n",
    "    v_out = {}\n",
    "    \n",
    "\n",
    "    # ('8', '8') -> 8\\ 8\n",
    "    bigram = re.escape(' '.join(pair))\n",
    "    \n",
    "    # re.compile('(?<!\\\\S)8\\\\ 8(?!\\\\S)')\n",
    "    p = re.compile(r'(?<!\\S)' + bigram + r'(?!\\S)')\n",
    "    \n",
    "\n",
    "    for word in v_in:\n",
    "        w_out = p.sub(''.join(pair), word)\n",
    "        v_out[w_out] = v_in[word]\n",
    "        \n",
    "    return v_out\n",
    "\n",
    "\n",
    "def get_tokens_from_vocab(vocab):\n",
    "    tokens_frequencies = collections.defaultdict(int)\n",
    "    \n",
    "    \n",
    "    vocab_tokenization = {}\n",
    "    \n",
    "    # items() : returns a view object that displays a list of dictionary's (key, value) tuple pairs.\n",
    "    # dict_items([('3 3 3 3', 9), ('3 3 3 3 3', 9),...,('3 3 3 3 3 6', 1)]\n",
    "    for word, freq in vocab.items():\n",
    "        \n",
    "        # split : split into characters with space\n",
    "        # ['3', '3', '3', '3']\n",
    "        word_tokens = word.split()\n",
    "        \n",
    "        for token in word_tokens:\n",
    "            tokens_frequencies[token] += freq\n",
    "        vocab_tokenization[''.join(word_tokens)] = word_tokens\n",
    "    return tokens_frequencies, vocab_tokenization\n",
    "\n",
    "def measure_token_length(token):\n",
    "    if token[-4:] == '</w>':\n",
    "        return len(token[:-4]) + 1\n",
    "    else:\n",
    "        return len(token)\n",
    "\n",
    "# tokenize_word(string=word_given, sorted_tokens=sorted_tokens, unknown_token='</u>')\n",
    "def tokenize_word(string, sorted_tokens, unknown_token='</u>'):\n",
    "    \n",
    "    if string == '':\n",
    "        return []\n",
    "    if sorted_tokens == []:\n",
    "        return [unknown_token]\n",
    "\n",
    "    string_tokens = []\n",
    "    \n",
    "    # sorted_tokens : [..., '63', '36', '84', '4', '5', '8', '3', '2', '6', '7', '1']\n",
    "    # sorted_tokens : ['newest</w>', 'widest</w>', 'lower</w>', 'low</w>']\n",
    "    for i in range(len(sorted_tokens)):\n",
    "        token = sorted_tokens[i]\n",
    "        \n",
    "\n",
    "        token_reg = re.escape(token.replace('.', '[.]'))\n",
    "        \n",
    "\n",
    "        # [(1, 2), (4, 5)]\n",
    "        matched_positions = [(m.start(0), m.end(0)) for m in re.finditer(token_reg, string)]\n",
    "        \n",
    "        \n",
    "        # 새로 입력받은 string과 sorted_tokens에 저장되어 있는 패턴들과 하나씩 대조한다\n",
    "        if len(matched_positions) == 0:\n",
    "            continue\n",
    "        \n",
    "        # [4]\n",
    "        substring_end_positions = [matched_position[0] for matched_position in matched_positions]\n",
    "        \n",
    "\n",
    "        substring_start_position = 0\n",
    "        for substring_end_position in substring_end_positions:\n",
    "            \n",
    "            # string의 시작 index와 찾은 pattern의 시작지점 사이의 substring에 대해서 재귀함수\n",
    "            # pattern의 시작지점과, 뒤에 pattern의 시작지점 사이의 substring에 대해서 재귀함수\n",
    "            # 이 때 각 재쉬함수들은 sorted_tokens[i+1:]을 사용한다. 즉 아직 대조하지 않은 pattern에 대해서만 실행\n",
    "            substring = string[substring_start_position:substring_end_position]\n",
    "            string_tokens += tokenize_word(string=substring, sorted_tokens=sorted_tokens[i+1:], unknown_token=unknown_token)\n",
    "            \n",
    "            # 함수에서 나온 pattern들을 차례대로 이어 붙인다\n",
    "            # sorted_tokens가 크기 순으로 정렬되어 있기 때문에, 가장 긴 pattern부터 대조를 진행한다\n",
    "            string_tokens += [token]\n",
    "            substring_start_position = substring_end_position + len(token)\n",
    "        remaining_substring = string[substring_start_position:]\n",
    "        string_tokens += tokenize_word(string=remaining_substring, sorted_tokens=sorted_tokens[i+1:], unknown_token=unknown_token)\n",
    "        break\n",
    "    return string_tokens"
   ]
  },
  {
   "cell_type": "code",
   "execution_count": 17,
   "metadata": {},
   "outputs": [],
   "source": [
    "def BPE_main(sorted_concat_dic, num_merges):\n",
    "\n",
    "    # BPE\n",
    "    vocab = sorted_concat_dic\n",
    "\n",
    "    # initial tokens. unit tokens\n",
    "    tokens_frequencies, vocab_tokenization = get_tokens_from_vocab(vocab)\n",
    "\n",
    "\n",
    "    for i in tqdm(range(num_merges)):\n",
    "        \n",
    "        # initial unit token을 사용해서 2개씩 묶어서 패턴을 구성한다. \n",
    "        # {('3', '3'): 1081, ('4', '4'): 972, ('8', '8'): 1197}\n",
    "        pairs = get_stats(vocab)\n",
    "        \n",
    "        # 더 이상 안묶어지면, break\n",
    "        if not pairs:\n",
    "            print(\"BPE maax iteration is \", i)\n",
    "            break\n",
    "        \n",
    "        # pair들 중 가장 빈도수가 많은 pair를 best에 저장\n",
    "        # 첫 iteration에서는 ('6', '6')pair가 1258개로 가장 많다.\n",
    "        best = max(pairs, key=pairs.get)\n",
    "        \n",
    "        # 기존 단어 frequency dictionary에의 key값들에 best 조합을 적용한다\n",
    "        # best : ('e', 's')\n",
    "        # {'l o w </w>': 5, 'l o w e r </w>': 2, 'n e w e s t </w>': 6, 'w i d e s t </w>': 3}\n",
    "        # -> {'l o w </w>': 5, 'l o w e r </w>': 2, 'n e w es t </w>': 6, 'w i d es t </w>': 3}\n",
    "        vocab = merge_vocab(best, vocab)\n",
    "        \n",
    "        \n",
    "        # 업데이트된 vocab을 토대로 tokens_frequencies, vocab_tokenization를 최신화한다. \n",
    "        tokens_frequencies, vocab_tokenization = get_tokens_from_vocab(vocab)\n",
    "        sorted_tokens_tuple = sorted(tokens_frequencies.items(), key=lambda item: (measure_token_length(item[0]), item[1]), reverse=True)\n",
    "        sorted_tokens = [token for (token, freq) in sorted_tokens_tuple]\n",
    "        \n",
    "    return sorted_tokens"
   ]
  },
  {
   "cell_type": "code",
   "execution_count": 18,
   "metadata": {},
   "outputs": [
    {
     "ename": "NameError",
     "evalue": "name 'aaaa' is not defined",
     "output_type": "error",
     "traceback": [
      "\u001b[0;31m---------------------------------------------------------------------------\u001b[0m",
      "\u001b[0;31mNameError\u001b[0m                                 Traceback (most recent call last)",
      "Cell \u001b[0;32mIn[18], line 1\u001b[0m\n\u001b[0;32m----> 1\u001b[0m \u001b[39mprint\u001b[39m(aaaa)\n",
      "\u001b[0;31mNameError\u001b[0m: name 'aaaa' is not defined"
     ]
    }
   ],
   "source": [
    "print(aaaa)"
   ]
  },
  {
   "cell_type": "code",
   "execution_count": 31,
   "metadata": {},
   "outputs": [
    {
     "name": "stderr",
     "output_type": "stream",
     "text": [
      "100%|██████████| 20000/20000 [06:09<00:00, 54.07it/s]\n"
     ]
    }
   ],
   "source": [
    "big_concat_string_list = []\n",
    "\n",
    "\n",
    "for i in tqdm(range(0, 20000)) :\n",
    "\n",
    "    data = read_file(i)\n",
    "    skill_category_list = categorize_function(data)\n",
    "    concat_string_list = concat_string_function(skill_category_list)\n",
    "    big_concat_string_list = big_concat_string_list + concat_string_list # collect all patterns from all trajectories"
   ]
  },
  {
   "cell_type": "code",
   "execution_count": 32,
   "metadata": {},
   "outputs": [
    {
     "name": "stderr",
     "output_type": "stream",
     "text": [
      "100%|██████████| 20000/20000 [00:09<00:00, 2047.40it/s]\n"
     ]
    }
   ],
   "source": [
    "# adaptive_H patern construction for BPE\n",
    "\n",
    "concat_string_list_dict = {}\n",
    "\n",
    "concat_string_array = np.array(big_concat_string_list)\n",
    "\n",
    "for i in tqdm(concat_string_array) :\n",
    "    \n",
    "    arr_index = np.where(concat_string_array == i)\n",
    "    \n",
    "    # add spaces between characters in a string\n",
    "    i = i.replace(\"\", \" \")[1: -1]\n",
    "    \n",
    "    # add stop token\n",
    "    #i = i + \" </w>\"\n",
    "\n",
    "    concat_string_list_dict[i] = len(arr_index[0])\n",
    "\n",
    "\n",
    "\n",
    "sorted_concat_dict = dict(sorted(concat_string_list_dict.items(), key=lambda item: item[1], reverse=True))"
   ]
  },
  {
   "cell_type": "code",
   "execution_count": 33,
   "metadata": {},
   "outputs": [],
   "source": [
    "sorted_concat_dict_20000 = sorted_concat_dict"
   ]
  },
  {
   "cell_type": "code",
   "execution_count": 34,
   "metadata": {},
   "outputs": [],
   "source": [
    "import pickle\n",
    "\n",
    "## Save pickle\n",
    "with open(\"sorted_concat_dict_20000.pickle\",\"wb\") as fw:\n",
    "    pickle.dump(sorted_concat_dict_20000, fw)"
   ]
  },
  {
   "cell_type": "code",
   "execution_count": null,
   "metadata": {},
   "outputs": [],
   "source": []
  },
  {
   "cell_type": "code",
   "execution_count": null,
   "metadata": {},
   "outputs": [],
   "source": []
  },
  {
   "cell_type": "code",
   "execution_count": 39,
   "metadata": {},
   "outputs": [
    {
     "name": "stderr",
     "output_type": "stream",
     "text": [
      "100%|██████████| 1000/1000 [16:03<00:00,  1.04it/s]\n"
     ]
    }
   ],
   "source": [
    "# BPE for SpiRL Prior Learning\n",
    "from tqdm import tqdm\n",
    "import pickle\n",
    "\n",
    "## Load pickle\n",
    "with open(\"sorted_concat_dict_20000.pickle\",\"rb\") as fr:\n",
    "    sorted_concat_dict_20000 = pickle.load(fr)\n",
    "\n",
    "\n",
    "sorted_tokens_BPE_1000 = BPE_main(sorted_concat_dic=sorted_concat_dict_20000, num_merges=1000)"
   ]
  },
  {
   "cell_type": "code",
   "execution_count": 46,
   "metadata": {},
   "outputs": [
    {
     "data": {
      "text/plain": [
       "['11111111111111115555566666666666',\n",
       " '44444444444444446666655555555555',\n",
       " '44444444444444448888877777777777',\n",
       " '33333333333333336666655555555555',\n",
       " '22222222222222225555566666666666',\n",
       " '11111111111111117777788888888888',\n",
       " '7777777777777777788888888888',\n",
       " '8888888888888888977777777777',\n",
       " '2222222222222222222222222222',\n",
       " '7777777777777777988888888888']"
      ]
     },
     "execution_count": 46,
     "metadata": {},
     "output_type": "execute_result"
    }
   ],
   "source": [
    "sorted_tokens_BPE_1000[:10]"
   ]
  },
  {
   "cell_type": "code",
   "execution_count": 44,
   "metadata": {},
   "outputs": [],
   "source": [
    "import pickle\n",
    "\n",
    "## Save pickle\n",
    "with open(\"sorted_tokens_BPE_1000.pickle\",\"wb\") as fw:\n",
    "    pickle.dump(sorted_tokens_BPE_1000, fw)"
   ]
  },
  {
   "cell_type": "code",
   "execution_count": null,
   "metadata": {},
   "outputs": [],
   "source": []
  },
  {
   "cell_type": "code",
   "execution_count": null,
   "metadata": {},
   "outputs": [],
   "source": []
  },
  {
   "cell_type": "code",
   "execution_count": null,
   "metadata": {},
   "outputs": [],
   "source": []
  },
  {
   "cell_type": "code",
   "execution_count": null,
   "metadata": {},
   "outputs": [],
   "source": [
    "temporal_abstraction = [1, 5, 10, 15, 20]\n",
    "action_space = [8]*5\n",
    "action_space = [pow(8, temporal_abstraction[i]) for i in range(0,len(action_space))]"
   ]
  },
  {
   "cell_type": "code",
   "execution_count": null,
   "metadata": {},
   "outputs": [
    {
     "data": {
      "text/plain": [
       "<matplotlib.legend.Legend at 0x7f161f0c5c00>"
      ]
     },
     "execution_count": 247,
     "metadata": {},
     "output_type": "execute_result"
    },
    {
     "data": {
      "image/png": "[encoded data removed]",
      "text/plain": [
       "<Figure size 640x480 with 1 Axes>"
      ]
     },
     "metadata": {},
     "output_type": "display_data"
    }
   ],
   "source": [
    "import matplotlib.pyplot as plt\n",
    "%matplotlib inline\n",
    "\n",
    "#plt.plot(temporal_abstraction, np.log(action_space), color=\"red\", label='max_possible')\n",
    "plt.plot(fixed_H_val_list, np.log(skill_kinds_list_fixedH), color=\"red\", label='fixed H')\n",
    "plt.plot(H_list_BPE, np.log(skill_kinds_list_BPE), color=\"blue\", label='BPE')\n",
    "plt.plot(H_list_ICM_BPE, np.log(skill_kinds_list_ICM_BPE), color=\"green\", label='ICM_BPE')\n",
    "\n",
    "plt.title(\"Temproal Abstraction vs size of action space(Maze2D)\")\n",
    "plt.xlabel(\"H\")\n",
    "plt.ylabel(\"log scaled action space\")\n",
    "plt.xlim(0,10)\n",
    "plt.legend(loc=\"lower right\")"
   ]
  },
  {
   "cell_type": "code",
   "execution_count": null,
   "metadata": {},
   "outputs": [],
   "source": []
  }
 ],
 "metadata": {
  "kernelspec": {
   "display_name": "base",
   "language": "python",
   "name": "python3"
  },
  "language_info": {
   "codemirror_mode": {
    "name": "ipython",
    "version": 3
   },
   "file_extension": ".py",
   "mimetype": "text/x-python",
   "name": "python",
   "nbconvert_exporter": "python",
   "pygments_lexer": "ipython3",
   "version": "3.10.8"
  },
  "orig_nbformat": 4
 },
 "nbformat": 4,
 "nbformat_minor": 2
}
